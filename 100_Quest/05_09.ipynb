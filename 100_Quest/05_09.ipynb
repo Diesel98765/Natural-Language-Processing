{
 "cells": [
  {
   "cell_type": "markdown",
   "id": "5d12170d-0767-4a1d-8eac-6e7d96c5e36b",
   "metadata": {},
   "source": [
    "# 05. n-gramPermalink\n",
    "与えられたシーケンス（文字列やリストなど）からn-gramを作る関数を作成せよ．この関数を用い，”I am an NLPer”という文から単語bi-gram，文字bi-gramを得よ．"
   ]
  },
  {
   "cell_type": "markdown",
   "id": "f9f255a7-8e6f-43c8-b663-196d44e4ffc1",
   "metadata": {},
   "source": [
    "## n-gramとは\n",
    "任意の文字列や文章を連続したn個の文字で分割するテキスト分類方法."
   ]
  },
  {
   "cell_type": "code",
   "execution_count": 1,
   "id": "1e963f0b-9e77-40a3-a852-2a5ad9108e0f",
   "metadata": {},
   "outputs": [
    {
     "name": "stdout",
     "output_type": "stream",
     "text": [
      "単語bi-gram\n",
      "[[['I', 'am']], [['am', 'an']], [['an', 'NLPer']]]\n",
      "\n",
      "文字bi-gram\n",
      "[['I '], [' a'], ['am'], ['m '], [' a'], ['an'], ['n '], [' N'], ['NL'], ['LP'], ['Pe'], ['er']]\n"
     ]
    }
   ],
   "source": [
    "def n_gram(s,n):\n",
    "    gram = []\n",
    "    for i in range(len(s) - n + 1):\n",
    "        youso = []\n",
    "        youso = [s[i:i + n]]\n",
    "        gram.append(youso)\n",
    "        \n",
    "    return gram\n",
    "\n",
    "\"\"\"\n",
    "こっちの方が良い\n",
    "def n_gram(s,n):\n",
    "    return [s[i:i+n] for i in range(len(s) - n + 1)]\n",
    "\"\"\"\n",
    "\n",
    "s = \"I am an NLPer\"\n",
    "s_word = s.split()\n",
    "\n",
    "print(\"単語bi-gram\")\n",
    "print(n_gram(s_word,2))\n",
    "print()\n",
    "print(\"文字bi-gram\")\n",
    "print(n_gram(s,2))"
   ]
  },
  {
   "cell_type": "markdown",
   "id": "05e7de54-4256-404b-b26c-cb9669dc8dfc",
   "metadata": {},
   "source": [
    "# 06. 集合\n",
    "“paraparaparadise”と”paragraph”に含まれる文字bi-gramの集合を，それぞれ, XとYとして求め，XとYの和集合，積集合，差集合を求めよ．さらに，’se’というbi-gramがXおよびYに含まれるかどうかを調べよ．"
   ]
  },
  {
   "cell_type": "code",
   "execution_count": 2,
   "id": "c815cca2-0fab-4173-b727-9074749e6408",
   "metadata": {},
   "outputs": [
    {
     "name": "stdout",
     "output_type": "stream",
     "text": [
      "bi-bram X\n",
      "['pa', 'ar', 'ra', 'ap', 'pa', 'ar', 'ra', 'ap', 'pa', 'ar', 'ra', 'ad', 'di', 'is', 'se']\n",
      "bi-bram Y\n",
      "['pa', 'ar', 'ra', 'ag', 'gr', 'ra', 'ap', 'ph']\n",
      "\n",
      "和集合\n",
      "{'di', 'gr', 'ad', 'ap', 'pa', 'ag', 'ra', 'ph', 'ar', 'is', 'se'}\n",
      "積集合\n",
      "{'ap', 'pa', 'ra', 'ar'}\n",
      "差集合\n",
      "{'ad', 'is', 'di', 'se'}\n",
      "{'ph', 'gr', 'ag'}\n",
      "\n",
      "seが含まれているかどうか\n",
      "True\n",
      "False\n"
     ]
    }
   ],
   "source": [
    "def n_gram(s,n):\n",
    "    return [s[i:i+n] for i in range(len(s) - n + 1)]\n",
    "\n",
    "X = \"paraparaparadise\"\n",
    "Y = \"paragraph\"\n",
    "\n",
    "biX = n_gram(X,2)\n",
    "biY = n_gram(Y,2)\n",
    "\n",
    "def include(s,x):\n",
    "    if s in x:\n",
    "        return True\n",
    "    return False\n",
    "\n",
    "print(\"bi-bram X\")\n",
    "print(biX)\n",
    "print(\"bi-bram Y\")\n",
    "print(biY)\n",
    "print()\n",
    "print(\"和集合\")\n",
    "print(set(biX)|set(biY))\n",
    "print(\"積集合\")\n",
    "print(set(biX)&set(biY))\n",
    "print(\"差集合\")\n",
    "print(set(biX)-set(biY))\n",
    "print(set(biY)-set(biX))\n",
    "print()\n",
    "print(\"seが含まれているかどうか\")\n",
    "print(include(\"se\",biX))\n",
    "print(include(\"se\",biY))"
   ]
  },
  {
   "cell_type": "markdown",
   "id": "b64b74b9-f6bd-4a80-8776-326c23f2e9d9",
   "metadata": {},
   "source": [
    "# 07. テンプレートによる文生成\n",
    "引数x, y, zを受け取り「x時のyはz」という文字列を返す関数を実装せよ．さらに，x=12, y=”気温”, z=22.4として，実行結果を確認せよ．"
   ]
  },
  {
   "cell_type": "code",
   "execution_count": 3,
   "id": "7e64565d-9edf-46b8-b2a6-ee1e22bd896e",
   "metadata": {},
   "outputs": [
    {
     "name": "stdout",
     "output_type": "stream",
     "text": [
      "12の時の気温は22.4\n"
     ]
    }
   ],
   "source": [
    "def st(x,y,z):\n",
    "    x = str(x)\n",
    "    y = str(y)\n",
    "    z = str(z)\n",
    "    out = \"\".join([x,\"の時の\",y,\"は\",z])\n",
    "    return out\n",
    "\n",
    "print(st(12,\"気温\",22.4))"
   ]
  },
  {
   "cell_type": "markdown",
   "id": "10d2d484-1d46-430f-bb72-d0cc7e2a4e9d",
   "metadata": {},
   "source": [
    "# 08. 暗号文\n",
    "与えられた文字列の各文字を，以下の仕様で変換する関数cipherを実装せよ．\n",
    "\n",
    "・英小文字ならば(219 - 文字コード)の文字に置換<br>\n",
    "・その他の文字はそのまま出力<br>\n",
    "\n",
    "この関数を用い，英語のメッセージを暗号化・復号化せよ."
   ]
  },
  {
   "cell_type": "code",
   "execution_count": 4,
   "id": "4eae61c5-0c8c-47e0-9456-20c45ec2876b",
   "metadata": {},
   "outputs": [
    {
     "name": "stdout",
     "output_type": "stream",
     "text": [
      "I orpv tlou.\n"
     ]
    }
   ],
   "source": [
    "def cipher(s):\n",
    "    letter = []\n",
    "    for i in s:\n",
    "        if i.islower():\n",
    "            letter.append(chr(219 - ord(i)))\n",
    "        else:\n",
    "            letter.append(i)\n",
    "    sentence = \"\".join(letter)\n",
    "    return sentence\n",
    "        \n",
    "s = \"I like golf.\"\n",
    "print(cipher(s))"
   ]
  },
  {
   "cell_type": "markdown",
   "id": "1c695fe8-694b-498d-b097-dbf58e01ef97",
   "metadata": {},
   "source": [
    "# 09. TypoglycemiaPermalink\n",
    "スペースで区切られた単語列に対して，各単語の先頭と末尾の文字は残し，それ以外の文字の順序をランダムに並び替えるプログラムを作成せよ．ただし，長さが４以下の単語は並び替えないこととする．適当な英語の文（例えば”I couldn’t believe that I could actually understand what I was reading : the phenomenal power of the human mind .”）を与え，その実行結果を確認せよ．"
   ]
  },
  {
   "cell_type": "code",
   "execution_count": 5,
   "id": "799dc77c-c9e6-4a75-9316-74f7a5bc5be0",
   "metadata": {},
   "outputs": [
    {
     "name": "stdout",
     "output_type": "stream",
     "text": [
      "4単語より大きい\n",
      "I cultdn’o eveible atth I olucd ayclluat ntdnauedsr hawt I saw anedgri : teh elpamnnohe wrope fo the amhun dinm .\n",
      "\n",
      "4単語以下\n",
      "I know him.\n"
     ]
    }
   ],
   "source": [
    "import random\n",
    "\n",
    "def TP(s):\n",
    "    word = s.split()\n",
    "    if len(word)<= 4:\n",
    "        return \" \".join(word)\n",
    "    else:\n",
    "        middle = word[1:-1]\n",
    "        middle_sentence = []\n",
    "        for letter in middle:\n",
    "            shuffled_letter = random.sample(letter,len(letter))\n",
    "            shuffled_letter = \"\".join(shuffled_letter)\n",
    "            middle_sentence.append(shuffled_letter)\n",
    "        sentence = word[:1] + middle_sentence + word[-1:]\n",
    "        return \" \".join(sentence)\n",
    "\n",
    "s1 = \"I couldn’t believe that I could actually understand what I was reading : the phenomenal power of the human mind .\"\n",
    "s2 = \"I know him.\"\n",
    "print(\"4単語より大きい\")\n",
    "print(TP(s1))\n",
    "print()\n",
    "print(\"4単語以下\")\n",
    "print(TP(s2))"
   ]
  }
 ],
 "metadata": {
  "kernelspec": {
   "display_name": "Python 3 (ipykernel)",
   "language": "python",
   "name": "python3"
  },
  "language_info": {
   "codemirror_mode": {
    "name": "ipython",
    "version": 3
   },
   "file_extension": ".py",
   "mimetype": "text/x-python",
   "name": "python",
   "nbconvert_exporter": "python",
   "pygments_lexer": "ipython3",
   "version": "3.9.12"
  }
 },
 "nbformat": 4,
 "nbformat_minor": 5
}
