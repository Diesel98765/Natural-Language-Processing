{
 "cells": [
  {
   "cell_type": "markdown",
   "id": "c02b595b-b00e-4fee-b9d2-2fc140a2b87b",
   "metadata": {},
   "source": [
    "# 00. 文字列の逆順Permalink\n",
    "文字列”stressed”の文字を逆に（末尾から先頭に向かって）並べた文字列を得よ．"
   ]
  },
  {
   "cell_type": "code",
   "execution_count": 2,
   "id": "8f632e39-b4dd-45f9-a304-9f4aec7154f5",
   "metadata": {},
   "outputs": [
    {
     "name": "stdout",
     "output_type": "stream",
     "text": [
      "desserts\n"
     ]
    }
   ],
   "source": [
    "S = \"stressed\"\n",
    "print(S[::-1])"
   ]
  },
  {
   "cell_type": "markdown",
   "id": "c642016e-e900-413c-83de-81a88ca6c1f2",
   "metadata": {},
   "source": [
    "# 01. 「パタトクカシーー」Permalink\n",
    "「パタトクカシーー」という文字列の1,3,5,7文字目を取り出して連結した文字列を得よ"
   ]
  },
  {
   "cell_type": "code",
   "execution_count": 3,
   "id": "286f1612-0f08-4b47-beac-40433ce40171",
   "metadata": {},
   "outputs": [
    {
     "name": "stdout",
     "output_type": "stream",
     "text": [
      "パトカー\n"
     ]
    }
   ],
   "source": [
    "S = \"パタトクカシーー\"\n",
    "print(S[::2])"
   ]
  },
  {
   "cell_type": "markdown",
   "id": "4080ff73-0077-456c-9575-337141fcf0a4",
   "metadata": {},
   "source": [
    "# 02. 「パトカー」＋「タクシー」＝「パタトクカシーー」\n",
    "「パトカー」＋「タクシー」の文字を先頭から交互に連結して文字列「パタトクカシーー」を得よ．"
   ]
  },
  {
   "cell_type": "code",
   "execution_count": 11,
   "id": "c93f0bb9-059c-48f4-8402-6f3b2df8c048",
   "metadata": {},
   "outputs": [
    {
     "name": "stdout",
     "output_type": "stream",
     "text": [
      "パタトクカシーー\n"
     ]
    }
   ],
   "source": [
    "S1 = \"パトカー\"\n",
    "S2 = \"タクシー\"\n",
    "\n",
    "S = \"\"\n",
    "for i in range(len(S1)):\n",
    "    S += S1[i] + S2[i]\n",
    "print(S)"
   ]
  },
  {
   "cell_type": "markdown",
   "id": "8c4c5ce2-a10f-4bd3-8f53-713db82e583f",
   "metadata": {},
   "source": [
    "# 03. 円周率Permalink\n",
    "“Now I need a drink, alcoholic of course, after the heavy lectures involving quantum mechanics.”という文を単語に分解し，各単語の（アルファベットの）文字数を先頭から出現順に並べたリストを作成せよ．"
   ]
  },
  {
   "cell_type": "code",
   "execution_count": 20,
   "id": "dda80e01-0cf3-4039-a80e-636c47ab4dd1",
   "metadata": {},
   "outputs": [
    {
     "name": "stdout",
     "output_type": "stream",
     "text": [
      "['Now', 'I', 'need', 'a', 'drink', 'alcoholic', 'of', 'course', 'after', 'the', 'heavy', 'lectures', 'involving', 'quantum', 'mechanics']\n",
      "[3, 1, 4, 1, 5, 9, 2, 6, 5, 3, 5, 8, 9, 7, 9]\n"
     ]
    }
   ],
   "source": [
    "import re\n",
    "\n",
    "S = \"Now I need a drink, alcoholic of course, after the heavy lectures involving quantum mechanics.\"\n",
    "\n",
    "S = re.sub(\"[,\\.]\", \"\", S)\n",
    "word = S.split()\n",
    "\n",
    "cnt = [len(i) for i in word]\n",
    "\n",
    "print(word)   \n",
    "print(cnt)"
   ]
  },
  {
   "cell_type": "markdown",
   "id": "81c7ca0c-0688-4bfb-87a1-7c97151dd4ac",
   "metadata": {},
   "source": [
    "# 04. 元素記号Permalink\n",
    "“Hi He Lied Because Boron Could Not Oxidize Fluorine. New Nations Might Also Sign Peace Security Clause. Arthur King Can.”という文を単語に分解し，1, 5, 6, 7, 8, 9, 15, 16, 19番目の単語は先頭の1文字，それ以外の単語は先頭の2文字を取り出し，取り出した文字列から単語の位置（先頭から何番目の単語か）への連想配列（辞書型もしくはマップ型）を作成せよ．"
   ]
  },
  {
   "cell_type": "code",
   "execution_count": 23,
   "id": "6a9c2ca3-656b-4418-8b44-56c34e744bfc",
   "metadata": {},
   "outputs": [
    {
     "name": "stdout",
     "output_type": "stream",
     "text": [
      "{'H': 1, 'He': 2, 'Li': 3, 'Be': 4, 'B': 5, 'C': 6, 'N': 7, 'O': 8, 'F': 9, 'Ne': 10, 'Na': 11, 'Mi': 12, 'Al': 13, 'Si': 14, 'P': 15, 'S': 16, 'Cl': 17, 'Ar': 18, 'K': 19, 'Ca': 20}\n"
     ]
    }
   ],
   "source": [
    "import re\n",
    "E = \"Hi He Lied Because Boron Could Not Oxidize Fluorine. New Nations Might Also Sign Peace Security Clause. Arthur King Can.\"\n",
    "l = [1,5,6,7,8,9,15,16,19]\n",
    "\n",
    "E = re.sub(\"[.]\", \"\", E )\n",
    "E_s = E.split()\n",
    "\n",
    "d = {}\n",
    "for i,word in enumerate(E_s):\n",
    "    if i+1 in l:\n",
    "        d[word[:1]] = i + 1\n",
    "    else:\n",
    "        d[word[:2]] = i + 1\n",
    "        \n",
    "print(d)\n"
   ]
  },
 ],
 "metadata": {
  "kernelspec": {
   "display_name": "Python 3 (ipykernel)",
   "language": "python",
   "name": "python3"
  },
  "language_info": {
   "codemirror_mode": {
    "name": "ipython",
    "version": 3
   },
   "file_extension": ".py",
   "mimetype": "text/x-python",
   "name": "python",
   "nbconvert_exporter": "python",
   "pygments_lexer": "ipython3",
   "version": "3.9.12"
  }
 },
 "nbformat": 4,
 "nbformat_minor": 5
}
