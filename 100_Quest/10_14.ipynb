{
 "cells": [
  {
   "cell_type": "code",
   "execution_count": 34,
   "id": "b9a77f36-d3c7-4dae-90c9-bae1acf300ec",
   "metadata": {},
   "outputs": [
    {
     "data": {
      "text/html": [
       "<div>\n",
       "<style scoped>\n",
       "    .dataframe tbody tr th:only-of-type {\n",
       "        vertical-align: middle;\n",
       "    }\n",
       "\n",
       "    .dataframe tbody tr th {\n",
       "        vertical-align: top;\n",
       "    }\n",
       "\n",
       "    .dataframe thead th {\n",
       "        text-align: right;\n",
       "    }\n",
       "</style>\n",
       "<table border=\"1\" class=\"dataframe\">\n",
       "  <thead>\n",
       "    <tr style=\"text-align: right;\">\n",
       "      <th></th>\n",
       "      <th>name</th>\n",
       "      <th>sex</th>\n",
       "      <th>number</th>\n",
       "      <th>year</th>\n",
       "    </tr>\n",
       "  </thead>\n",
       "  <tbody>\n",
       "    <tr>\n",
       "      <th>0</th>\n",
       "      <td>Mary</td>\n",
       "      <td>F</td>\n",
       "      <td>7065</td>\n",
       "      <td>1880</td>\n",
       "    </tr>\n",
       "    <tr>\n",
       "      <th>1</th>\n",
       "      <td>Anna</td>\n",
       "      <td>F</td>\n",
       "      <td>2604</td>\n",
       "      <td>1880</td>\n",
       "    </tr>\n",
       "    <tr>\n",
       "      <th>2</th>\n",
       "      <td>Emma</td>\n",
       "      <td>F</td>\n",
       "      <td>2003</td>\n",
       "      <td>1880</td>\n",
       "    </tr>\n",
       "    <tr>\n",
       "      <th>3</th>\n",
       "      <td>Elizabeth</td>\n",
       "      <td>F</td>\n",
       "      <td>1939</td>\n",
       "      <td>1880</td>\n",
       "    </tr>\n",
       "    <tr>\n",
       "      <th>4</th>\n",
       "      <td>Minnie</td>\n",
       "      <td>F</td>\n",
       "      <td>1746</td>\n",
       "      <td>1880</td>\n",
       "    </tr>\n",
       "  </tbody>\n",
       "</table>\n",
       "</div>"
      ],
      "text/plain": [
       "        name sex  number  year\n",
       "0       Mary   F    7065  1880\n",
       "1       Anna   F    2604  1880\n",
       "2       Emma   F    2003  1880\n",
       "3  Elizabeth   F    1939  1880\n",
       "4     Minnie   F    1746  1880"
      ]
     },
     "execution_count": 34,
     "metadata": {},
     "output_type": "execute_result"
    }
   ],
   "source": [
    "import pandas as pd\n",
    "import os\n",
    "\n",
    "path = os.getcwd()\n",
    "data_path = path + \"/data/popular-names.txt\"\n",
    "data = pd.read_table( data_path, sep = \"\\t\", header = None, \n",
    "                     names = ['name','sex','number','year'])\n",
    "data.head()"
   ]
  },
  {
   "cell_type": "markdown",
   "id": "fde52f85-1b37-4663-b4e9-5b34e5311978",
   "metadata": {},
   "source": [
    "# 10. 行数のカウント\n",
    "行数をカウントせよ．確認にはwcコマンドを用いよ．"
   ]
  },
  {
   "cell_type": "code",
   "execution_count": 35,
   "id": "008434bc-6a82-42ff-91b0-c83ccac42899",
   "metadata": {},
   "outputs": [
    {
     "name": "stdout",
     "output_type": "stream",
     "text": [
      "2780\n"
     ]
    }
   ],
   "source": [
    "print(len(data))"
   ]
  },
  {
   "cell_type": "markdown",
   "id": "5c17f3b7-d263-474e-84de-84f48c6465b6",
   "metadata": {},
   "source": [
    "# 11. タブをスペースに置換Permalink\n",
    "タブ1文字につきスペース1文字に置換せよ．確認にはsedコマンド，trコマンド，もしくはexpandコマンドを用いよ．\n",
    "\n",
    "10番でタブで区切られてることを想定して読み込んでいるのでここはパス"
   ]
  },
  {
   "cell_type": "markdown",
   "id": "dbc36110-53e2-4202-b119-d2fa73d085b0",
   "metadata": {},
   "source": [
    "# 12. 1列目をcol1.txtに，2列目をcol2.txtに保存\n",
    "各行の1列目だけを抜き出したものをcol1.txtに，2列目だけを抜き出したものをcol2.txtとしてファイルに保存せよ．確認にはcutコマンドを用いよ．"
   ]
  },
  {
   "cell_type": "code",
   "execution_count": 36,
   "id": "7d41877f-bfdf-46e1-961b-db014cc781ef",
   "metadata": {},
   "outputs": [],
   "source": [
    "col1 = data[\"name\"]\n",
    "col2 = data[\"sex\"]\n",
    "\n",
    "col1_path = path + \"/data/col1.txt\"\n",
    "col2_path = path + \"/data/col2.txt\"\n",
    "\n",
    "col1.to_csv(col1_path,index=False)\n",
    "col2.to_csv(col2_path,index=False)"
   ]
  },
  {
   "cell_type": "markdown",
   "id": "2f01400b-9b02-4e0c-9648-c4d0c5eed3ee",
   "metadata": {},
   "source": [
    "# 13. col1.txtとcol2.txtをマージ\n",
    "12で作ったcol1.txtとcol2.txtを結合し，元のファイルの1列目と2列目をタブ区切りで並べたテキストファイルを作成せよ．確認にはpasteコマンドを用いよ．"
   ]
  },
  {
   "cell_type": "code",
   "execution_count": 38,
   "id": "5c26d0dd-a146-4c80-8b44-7bb46bb38421",
   "metadata": {},
   "outputs": [],
   "source": [
    "col1_path = path + \"/data/col1.txt\"\n",
    "col2_path = path + \"/data/col2.txt\"\n",
    "\n",
    "col1ver2 = pd.read_table(col1_path)\n",
    "col2ver2 = pd.read_table(col2_path)\n",
    "\n",
    "merged = pd.concat([col1ver2,col2ver2],axis= 1)\n",
    "merged.head()\n",
    "\n",
    "merged_path = path + \"/data/merged12.txt\"\n",
    "merged.to_csv(merged_path, index = False,sep = \"\\t\")"
   ]
  },
  {
   "cell_type": "markdown",
   "id": "b875e6dc-ed10-44e8-852a-11238771b458",
   "metadata": {},
   "source": [
    "# 14. 先頭からN行を出力\n",
    "自然数Nをコマンドライン引数などの手段で受け取り，入力のうち先頭のN行だけを表示せよ．確認にはheadコマンドを用いよ．"
   ]
  },
  {
   "cell_type": "code",
   "execution_count": 40,
   "id": "e6b2533f-b1d8-44eb-8927-b52fa82cd39d",
   "metadata": {},
   "outputs": [
    {
     "name": "stdout",
     "output_type": "stream",
     "text": [
      "        name sex  number  year\n",
      "0       Mary   F    7065  1880\n",
      "1       Anna   F    2604  1880\n",
      "2       Emma   F    2003  1880\n",
      "3  Elizabeth   F    1939  1880\n",
      "4     Minnie   F    1746  1880\n"
     ]
    }
   ],
   "source": [
    "def df_head(df,n):\n",
    "    return df.head(n)\n",
    "\n",
    "print(df_head(data,5))"
   ]
  }
 ],
 "metadata": {
  "kernelspec": {
   "display_name": "Python 3 (ipykernel)",
   "language": "python",
   "name": "python3"
  },
  "language_info": {
   "codemirror_mode": {
    "name": "ipython",
    "version": 3
   },
   "file_extension": ".py",
   "mimetype": "text/x-python",
   "name": "python",
   "nbconvert_exporter": "python",
   "pygments_lexer": "ipython3",
   "version": "3.9.12"
  }
 },
 "nbformat": 4,
 "nbformat_minor": 5
}
